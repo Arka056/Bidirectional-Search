{
  "nbformat": 4,
  "nbformat_minor": 0,
  "metadata": {
    "colab": {
      "provenance": []
    },
    "kernelspec": {
      "name": "python3",
      "display_name": "Python 3"
    },
    "language_info": {
      "name": "python"
    }
  },
  "cells": [
    {
      "cell_type": "code",
      "execution_count": 1,
      "metadata": {
        "colab": {
          "base_uri": "https://localhost:8080/"
        },
        "id": "fybeESu9b6aq",
        "outputId": "9f81e410-b239-40c2-a6ad-982ff92f7257"
      },
      "outputs": [
        {
          "output_type": "stream",
          "name": "stdout",
          "text": [
            "Shortest Path using Bi-Directional DFS: [1, 2, 3, 4, 5]\n"
          ]
        }
      ],
      "source": [
        "# Route Finder Using Bi-Directional DFS\n",
        "# Problem Statement: Represent a city map as a graph where intersections are\n",
        "# nodes and roads are edges. Find the shortest path between two locations.\n",
        "# Implement Bi-directional DFS to minimize the number of nodes explored.\n",
        "\n",
        "# Name: Arka Kundu\n",
        "# Roll: 22053056\n",
        "# Section: CSE 27\n",
        "# Date: 12/02/2025\n",
        "\n",
        "class Graph:\n",
        "    def __init__(self):\n",
        "        self.graph = {}\n",
        "\n",
        "    def add_edge(self, u, v):\n",
        "        if u not in self.graph:\n",
        "            self.graph[u] = []\n",
        "        if v not in self.graph:\n",
        "            self.graph[v] = []\n",
        "        self.graph[u].append(v)\n",
        "        self.graph[v].append(u)\n",
        "\n",
        "    def bidirectional_dfs(self, start, end):\n",
        "        if start == end:\n",
        "            return [start]\n",
        "\n",
        "        forward_visited = {start: None}\n",
        "        backward_visited = {end: None}\n",
        "\n",
        "        def dfs(node, visited, other_visited):\n",
        "            if node in other_visited:\n",
        "                return True\n",
        "            for neighbor in self.graph.get(node, []):\n",
        "                if neighbor not in visited:\n",
        "                    visited[neighbor] = node\n",
        "                    if dfs(neighbor, visited, other_visited):\n",
        "                        return True\n",
        "            return False\n",
        "\n",
        "        if dfs(start, forward_visited, backward_visited) or dfs(end, backward_visited, forward_visited):\n",
        "            return self._construct_path(forward_visited, backward_visited, end)\n",
        "\n",
        "        return None\n",
        "\n",
        "    def _construct_path(self, forward_visited, backward_visited, end):\n",
        "        path = []\n",
        "        node = end\n",
        "        while node is not None:\n",
        "            path.append(node)\n",
        "            node = forward_visited.get(node)\n",
        "        path.reverse()\n",
        "\n",
        "        node = backward_visited.get(end)\n",
        "        while node is not None:\n",
        "            path.append(node)\n",
        "            node = backward_visited.get(node)\n",
        "\n",
        "        return path\n",
        "\n",
        "graph = Graph()\n",
        "edges = [(1, 2), (2, 3), (3, 4), (4, 5), (1, 6), (6, 7), (7, 5)]\n",
        "for u, v in edges:\n",
        "    graph.add_edge(u, v)\n",
        "\n",
        "start, end = 1, 5\n",
        "path = graph.bidirectional_dfs(start, end)\n",
        "print(\"Shortest Path using Bi-Directional DFS:\", path)\n",
        "\n"
      ]
    }
  ]
}